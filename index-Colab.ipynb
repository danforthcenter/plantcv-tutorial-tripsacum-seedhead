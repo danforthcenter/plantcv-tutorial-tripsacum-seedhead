{
 "cells": [
  {
   "cell_type": "markdown",
   "id": "8a2ebfdd-b654-49f9-a045-ddd38466e050",
   "metadata": {},
   "source": [
    "# Template tutorial (For Google Colaboratory)\n",
    "\n",
    "Description of tutorial"
   ]
  },
  {
   "cell_type": "code",
   "execution_count": null,
   "id": "032a5177-1c68-4a02-b9de-d67fe97bf60c",
   "metadata": {
    "tags": []
   },
   "outputs": [],
   "source": [
    "# Install PlantCV and required dependencies\n",
    "%pip install \"altair>=5\" ipympl plantcv\n",
    "\n",
    "# Give access and mount your Google Drive (need a Google Account)\n",
    "# Change path to directory you wish output files to be saved to.\n",
    "from google.colab import drive\n",
    "drive.mount('/content/gdrive')\n",
    "\n",
    "# Enable widget feature with matplotlib\n",
    "from google.colab import output\n",
    "output.enable_custom_widget_manager()\n",
    "\n",
    "#View working directory, may need to change path\n",
    "%pwd"
   ]
  },
  {
   "cell_type": "markdown",
   "id": "c4526306-7fa0-47c1-8f33-c1bd60aea56c",
   "metadata": {
    "id": "604065b5"
   },
   "source": [
    "# Section 1: Importing Image and Libraries"
   ]
  },
  {
   "cell_type": "code",
   "execution_count": null,
   "id": "2ab78fcd-abfd-49ae-98f9-7faca2bdb36b",
   "metadata": {
    "id": "62ef791b"
   },
   "outputs": [],
   "source": [
    "# Set the notebook display method\n",
    "# If widget is not working, then change to inline\n",
    "%matplotlib widget\n",
    "# Import libraries\n",
    "from plantcv import plantcv as pcv\n",
    "from plantcv.parallel import WorkflowInputs\n",
    "\n",
    "# Print out the version of PlantCV being used by the Jupyter kernel\n",
    "pcv.__version__"
   ]
  },
  {
   "cell_type": "markdown",
   "id": "b0f8cf92-bfd0-4541-aa74-a6a6406ddbb5",
   "metadata": {
    "id": "4468af74"
   },
   "source": [
    "## Input/Output variables\n",
    "\n",
    "The options class mimics the workflow command-line argument parser that is used for workflow parallelization. Using it while developing a workflow in Jupyter makes it easier to convert the workflow to a script later."
   ]
  },
  {
   "cell_type": "code",
   "execution_count": null,
   "id": "1e7e9b03",
   "metadata": {},
   "outputs": [],
   "source": [
    "# Input/output options\n",
    "args = WorkflowInputs(\n",
    "    images=[\"img/plant-image.jpg\"],\n",
    "    names=\"image1\",\n",
    "    result=\"test.json\",\n",
    "    outdir=\".\",\n",
    "    writeimg=True,\n",
    "    debug=\"plot\"\n",
    "    )"
   ]
  },
  {
   "cell_type": "code",
   "execution_count": null,
   "id": "223254b4",
   "metadata": {},
   "outputs": [],
   "source": [
    "# Set debug to the global parameter \n",
    "pcv.params.debug = args.debug\n",
    "# Change display settings\n",
    "pcv.params.dpi = 100\n",
    "# Increase text size and thickness to make labels clearer\n",
    "# (size may need to be altered based on original image size)\n",
    "pcv.params.text_size = 20\n",
    "pcv.params.text_thickness = 20"
   ]
  },
  {
   "cell_type": "markdown",
   "id": "e91d45fd-1e95-44dc-9fbd-6516819d2459",
   "metadata": {
    "id": "343a0816"
   },
   "source": [
    "## Read the input image"
   ]
  },
  {
   "cell_type": "markdown",
   "id": "69d0dd64-944c-483e-bd3e-ea5a3c6c470d",
   "metadata": {
    "id": "pnZYaudIgcHd"
   },
   "source": [
    "### Google Colaboratory Users:\n",
    "If you are running this notebook using Google Colaboratory, you will need to use the cell below to complete the tutorial unless you cloned the repository from GitHub to your personal Google Drive account. Once you begin developing your workflow for your data, you can delete this text cell and the code cell below so you avoid any conflicts the next time you use this notebook."
   ]
  },
  {
   "cell_type": "code",
   "execution_count": null,
   "id": "04e1941a-0601-467f-b404-9377112ecf77",
   "metadata": {
    "id": "3ItGZYvOyOir"
   },
   "outputs": [],
   "source": [
    "img = pcv.io.open_url(url=\"https://raw.githubusercontent.com/danforthcenter/plantcv-tutorial-template/main/img/plant-image.jpg\")"
   ]
  },
  {
   "cell_type": "markdown",
   "id": "38254175-9216-4146-b1f7-64915d00346d",
   "metadata": {
    "id": "r8URuV3ZhALj",
    "jp-MarkdownHeadingCollapsed": true
   },
   "source": [
    "### Local system use:\n",
    "If you have downloaded this notebook or the repository to your local device, then you will need to use the cell below to bring your image into the notebook. Do not run this line if you are navigating through the **tutorial** using Google Colaboratory.\n",
    "\n",
    "NOTE: *If you are developing your own workflow using this notebook, make sure you remove the code cell above with the URL and uncomment (remove the hashtag [#] to make the code active. This will call the image you defined during the Inputs/Outputs step.*"
   ]
  },
  {
   "cell_type": "markdown",
   "id": "b7fd131d-0a13-47de-8100-4b4169f2dac1",
   "metadata": {
    "id": "Q4Na59TNNg1x"
   },
   "source": [
    "### Reading images into your environment using *pcv.readimage()*\n",
    "Inputs:\n",
    "   * filename = Image file to be read in\n",
    "   * mode     = How the image will be read into the notebook; either 'native' (default), 'rgb', 'gray', 'csv', or 'envi'"
   ]
  },
  {
   "cell_type": "code",
   "execution_count": null,
   "id": "71895a19-09a4-4118-a446-8e80082c03db",
   "metadata": {
    "id": "03a085f7"
   },
   "outputs": [],
   "source": [
    "# img, path, filename = pcv.readimage(filename=args.image1)"
   ]
  }
 ],
 "metadata": {
  "kernelspec": {
   "display_name": "Python 3 (ipykernel)",
   "language": "python",
   "name": "python3"
  },
  "language_info": {
   "codemirror_mode": {
    "name": "ipython",
    "version": 3
   },
   "file_extension": ".py",
   "mimetype": "text/x-python",
   "name": "python",
   "nbconvert_exporter": "python",
   "pygments_lexer": "ipython3",
   "version": "3.11.10"
  }
 },
 "nbformat": 4,
 "nbformat_minor": 5
}
